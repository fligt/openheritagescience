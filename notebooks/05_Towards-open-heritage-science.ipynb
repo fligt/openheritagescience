{
 "cells": [
  {
   "cell_type": "markdown",
   "metadata": {},
   "source": [
    "# Towards open heritage science\n",
    "\n",
    "> Why is interdisciplinary research essential for heritage science? And what can we learn from open source?"
   ]
  },
  {
   "cell_type": "markdown",
   "metadata": {},
   "source": [
    "On 2 June 2022 Anna-Lena Lamprecht held a very interesting NWO Open Science [webinar](https://www.nwo.nl/en/open-science-practice-webinar-series#Fair%20metrics%20for%20FAIR%20software) about FAIR software. \n",
    "\n",
    "*Open Science entails that all research resources, **including software**, should be FAIR (findable, accessible, interoperable, reusable). This comes with a need to assess the ‘FAIRness’ of software. This webinar will highlight a project that addresses the current lack of evaluated, community-endorsed metrics to assess software FAIRness and the tooling to support such assessment.*  \n",
    "\n",
    "Here is a link to the recorded video. "
   ]
  },
  {
   "cell_type": "code",
   "execution_count": null,
   "metadata": {},
   "outputs": [
    {
     "data": {
      "text/html": [
       "<iframe width=\"560\" height=\"315\" src=\"https://www.youtube-nocookie.com/embed/SDdU8h0meCM\" \n",
       "title=\"YouTube video player\" frameborder=\"0\" allow=\"accelerometer; autoplay; \n",
       "clipboard-write; encrypted-media; gyroscope; picture-in-picture\" allowfullscreen></iframe>\n"
      ],
      "text/plain": [
       "<IPython.core.display.HTML object>"
      ]
     },
     "execution_count": null,
     "metadata": {},
     "output_type": "execute_result"
    }
   ],
   "source": [
    "#hide_input \n",
    "from IPython.display import HTML\n",
    "\n",
    "lamprecht_iframe_html = '''<iframe width=\"560\" height=\"315\" src=\"https://www.youtube-nocookie.com/embed/SDdU8h0meCM\" \n",
    "title=\"YouTube video player\" frameborder=\"0\" allow=\"accelerometer; autoplay; \n",
    "clipboard-write; encrypted-media; gyroscope; picture-in-picture\" allowfullscreen></iframe>\n",
    "'''\n",
    "\n",
    "HTML(lamprecht_iframe_html)"
   ]
  },
  {
   "cell_type": "markdown",
   "metadata": {},
   "source": [
    "On 26 November 2020 I have held a 20 minute NICAS presentation that summarizes my ideas about the importance of open heritage science.  "
   ]
  },
  {
   "cell_type": "code",
   "execution_count": null,
   "metadata": {},
   "outputs": [
    {
     "data": {
      "text/html": [
       "<iframe width=\"560\" height=\"315\" src=\"https://www.youtube-nocookie.com/embed/vkcqgpWTQ-0\" \n",
       "title=\"YouTube video player\" frameborder=\"0\" allow=\"accelerometer; autoplay; \n",
       "clipboard-write; encrypted-media; gyroscope; picture-in-picture\" allowfullscreen></iframe>\n"
      ],
      "text/plain": [
       "<IPython.core.display.HTML object>"
      ]
     },
     "execution_count": null,
     "metadata": {},
     "output_type": "execute_result"
    }
   ],
   "source": [
    "#hide_input \n",
    "from IPython.display import HTML \n",
    "\n",
    "ligterink_iframe_html = '''<iframe width=\"560\" height=\"315\" src=\"https://www.youtube-nocookie.com/embed/vkcqgpWTQ-0\" \n",
    "title=\"YouTube video player\" frameborder=\"0\" allow=\"accelerometer; autoplay; \n",
    "clipboard-write; encrypted-media; gyroscope; picture-in-picture\" allowfullscreen></iframe>\n",
    "'''\n",
    "\n",
    "HTML(ligterink_iframe_html)"
   ]
  },
  {
   "cell_type": "code",
   "execution_count": null,
   "metadata": {},
   "outputs": [],
   "source": []
  }
 ],
 "metadata": {
  "kernelspec": {
   "display_name": "Python 3",
   "language": "python",
   "name": "python3"
  }
 },
 "nbformat": 4,
 "nbformat_minor": 2
}
