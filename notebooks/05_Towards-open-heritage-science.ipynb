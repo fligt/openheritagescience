{
 "cells": [
  {
   "cell_type": "markdown",
   "metadata": {},
   "source": [
    "# Towards open heritage science\n",
    "\n",
    "> Why is interdisciplinary research essential for heritage science? And what can we learn from open source?"
   ]
  },
  {
   "cell_type": "markdown",
   "metadata": {},
   "source": [
    "On 26 November 2020 I have held a 20 minute NICAS presentation that summarizes my ideas about the importance of open heritage science.  "
   ]
  },
  {
   "cell_type": "code",
   "execution_count": null,
   "metadata": {},
   "outputs": [
    {
     "data": {
      "text/html": [
       "<iframe width=\"560\" height=\"315\" src=\"https://www.youtube-nocookie.com/embed/vkcqgpWTQ-0\" \n",
       "title=\"YouTube video player\" frameborder=\"0\" allow=\"accelerometer; autoplay; \n",
       "clipboard-write; encrypted-media; gyroscope; picture-in-picture\" allowfullscreen></iframe>\n"
      ],
      "text/plain": [
       "<IPython.core.display.HTML object>"
      ]
     },
     "execution_count": null,
     "metadata": {},
     "output_type": "execute_result"
    }
   ],
   "source": [
    "#hide_input \n",
    "from IPython.display import HTML \n",
    "\n",
    "iframe_html = '''<iframe width=\"560\" height=\"315\" src=\"https://www.youtube-nocookie.com/embed/vkcqgpWTQ-0\" \n",
    "title=\"YouTube video player\" frameborder=\"0\" allow=\"accelerometer; autoplay; \n",
    "clipboard-write; encrypted-media; gyroscope; picture-in-picture\" allowfullscreen></iframe>\n",
    "'''\n",
    "\n",
    "HTML(iframe_html)"
   ]
  }
 ],
 "metadata": {
  "kernelspec": {
   "display_name": "Python 3",
   "language": "python",
   "name": "python3"
  }
 },
 "nbformat": 4,
 "nbformat_minor": 2
}
