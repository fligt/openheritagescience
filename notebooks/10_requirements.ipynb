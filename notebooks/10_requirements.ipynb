{
 "cells": [
  {
   "cell_type": "markdown",
   "metadata": {},
   "source": [
    "# Requirements \n",
    "\n",
    "> Why is it so difficult to collaborate in interdisciplinary cultural heritage research projects? "
   ]
  },
  {
   "cell_type": "markdown",
   "metadata": {},
   "source": [
    "More here soon"
   ]
  }
 ],
 "metadata": {
  "kernelspec": {
   "display_name": "Python 3",
   "language": "python",
   "name": "python3"
  }
 },
 "nbformat": 4,
 "nbformat_minor": 2
}
